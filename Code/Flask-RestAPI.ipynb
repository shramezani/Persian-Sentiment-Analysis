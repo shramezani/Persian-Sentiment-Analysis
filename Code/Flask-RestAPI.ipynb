{
 "cells": [
  {
   "cell_type": "code",
   "execution_count": 1,
   "metadata": {},
   "outputs": [
    {
     "name": "stdout",
     "output_type": "stream",
     "text": [
      "Requirement already satisfied: Flask in d:\\apps\\anaconda3\\lib\\site-packages (1.1.1)\n",
      "Requirement already satisfied: Jinja2>=2.10.1 in d:\\apps\\anaconda3\\lib\\site-packages (from Flask) (2.10.3)\n",
      "Requirement already satisfied: itsdangerous>=0.24 in d:\\apps\\anaconda3\\lib\\site-packages (from Flask) (1.1.0)\n",
      "Requirement already satisfied: Werkzeug>=0.15 in d:\\apps\\anaconda3\\lib\\site-packages (from Flask) (0.16.0)\n",
      "Requirement already satisfied: click>=5.1 in d:\\apps\\anaconda3\\lib\\site-packages (from Flask) (7.0)\n",
      "Requirement already satisfied: MarkupSafe>=0.23 in d:\\apps\\anaconda3\\lib\\site-packages (from Jinja2>=2.10.1->Flask) (1.1.1)\n"
     ]
    }
   ],
   "source": [
    "!pip install Flask"
   ]
  },
  {
   "cell_type": "code",
   "execution_count": null,
   "metadata": {},
   "outputs": [],
   "source": []
  }
 ],
 "metadata": {
  "kernelspec": {
   "display_name": "Python 3",
   "language": "python",
   "name": "python3"
  },
  "language_info": {
   "codemirror_mode": {
    "name": "ipython",
    "version": 3
   },
   "file_extension": ".py",
   "mimetype": "text/x-python",
   "name": "python",
   "nbconvert_exporter": "python",
   "pygments_lexer": "ipython3",
   "version": "3.7.4"
  }
 },
 "nbformat": 4,
 "nbformat_minor": 2
}
