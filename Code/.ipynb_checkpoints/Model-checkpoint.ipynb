{
 "cells": [
  {
   "cell_type": "code",
   "execution_count": null,
   "id": "a721bd03",
   "metadata": {},
   "outputs": [],
   "source": [
    "conda create -n tf_2 tensorflow-gpu cudatoolkit=10.2 python=3.8\n",
    "conda activate tf_2\n",
    "conda install -c anaconda ipykernel"
   ]
  },
  {
   "cell_type": "code",
   "execution_count": null,
   "id": "2f7647ff",
   "metadata": {},
   "outputs": [],
   "source": [
    "pip install fasttext\n",
    "pip install keras\n",
    "pip install hazm\n",
    "pip install pandas\n",
    "pip install gensim\n",
    "pip install pydot\n",
    "pip install matplotlib\n",
    "conda install -c conda-forge numpy=1.19.5\n"
   ]
  },
  {
   "cell_type": "markdown",
   "id": "e450d791",
   "metadata": {},
   "source": [
    "# Import "
   ]
  },
  {
   "cell_type": "code",
   "execution_count": 27,
   "id": "85551eb7",
   "metadata": {},
   "outputs": [],
   "source": [
    "import settings\n",
    "\n",
    "\n",
    "FT_EMBEDDING_PATH = '../Embedding/cc.fa.300.bin'\n",
    "\n",
    "\n",
    "\n",
    "import fasttext \n",
    "import hazm\n",
    "import pandas as pd\n",
    "import numpy as np\n",
    "import gensim\n",
    "#from keras.preprocessing.text import Tokenizer\n",
    "#import keras.backend as K\n",
    "\n",
    "\n",
    "import numpy as np\n",
    "import tensorflow as tf\n",
    "\n",
    "from tensorflow.keras.preprocessing.text import Tokenizer\n",
    "from tensorflow.keras.preprocessing.sequence import pad_sequences\n",
    "\n",
    "from tensorflow.keras.models import Model, Sequential\n",
    "from tensorflow.keras.layers import Dense, Input, Embedding, Dropout\n",
    "from tensorflow.keras.layers import  LSTM, Bidirectional\n",
    "from tensorflow.keras.utils import to_categorical\n",
    "from tensorflow.keras.metrics import categorical_accuracy\n",
    "from tensorflow.compat.v1.keras.layers import CuDNNLSTM\n",
    "from tensorflow.keras.utils import plot_model\n",
    "\n",
    "\n",
    "import matplotlib.pyplot as plot"
   ]
  },
  {
   "cell_type": "markdown",
   "id": "4e772e45",
   "metadata": {},
   "source": [
    "# Load Pretrained Embedding (Optional-later)"
   ]
  },
  {
   "cell_type": "markdown",
   "id": "023b824c",
   "metadata": {},
   "source": [
    "We prefer to use fasttext embedding since it is pretrained on a large WikiPedia corpus and can better represent word embeddings. It is also a better word embedding representation since it is using ...???"
   ]
  },
  {
   "cell_type": "code",
   "execution_count": 2,
   "id": "0e82f371",
   "metadata": {},
   "outputs": [
    {
     "name": "stderr",
     "output_type": "stream",
     "text": [
      "Warning : `load_model` does not return WordVectorModel or SupervisedModel any more, but a `FastText` object which is very similar.\n"
     ]
    },
    {
     "data": {
      "text/plain": [
       "2000000"
      ]
     },
     "execution_count": 2,
     "metadata": {},
     "output_type": "execute_result"
    }
   ],
   "source": [
    "ft_embedding = fasttext.load_model(FT_EMBEDDING_PATH)\n",
    "len(ft_embedding.words)"
   ]
  },
  {
   "cell_type": "markdown",
   "id": "9caa2457",
   "metadata": {},
   "source": [
    "# Prepare input"
   ]
  },
  {
   "cell_type": "code",
   "execution_count": 14,
   "id": "c19f11d7",
   "metadata": {},
   "outputs": [],
   "source": [
    "# padding and embedding\n",
    "def prepare_data(x):\n",
    "    x_np = np.zeros((x.shape[0], SEQUENCE_LEN, EMB_SIZE))\n",
    "    for i  in range(len(x_np)):\n",
    "        token_list = hazm.word_tokenize(x[i])\n",
    "        \n",
    "        for t in range(len(token_list)):\n",
    "            if t >= SEQUENCE_LEN:\n",
    "                  break\n",
    "            if token_list[t] not in ft_embedding.words:\n",
    "                  continue\n",
    "            x_np[i, t, :] = ft_embedding.get_word_vector(token_list[t])\n",
    "    return x_np"
   ]
  },
  {
   "cell_type": "code",
   "execution_count": 15,
   "id": "a37f854b",
   "metadata": {},
   "outputs": [
    {
     "data": {
      "text/plain": [
       "(556, 4503, 501)"
      ]
     },
     "execution_count": 15,
     "metadata": {},
     "output_type": "execute_result"
    }
   ],
   "source": [
    "def load_data(data_name):\n",
    "    data = pd.read_csv(DATA_PATH+data_name+'.csv', index_col=None,  encoding=\"utf-8\")\n",
    "    x , y= np.asarray(data['comment']), np.asarray(data['sentiment'])\n",
    "    return x,y\n",
    "def get_tokenized_data(data_name):\n",
    "    x , y= load_data(data_name)\n",
    "    tokenized_x =  [hazm.word_tokenize(sent) for sent in x]\n",
    "    return tokenized_x,y\n",
    "\n",
    "\n",
    "x_test , y_test= load_data('test')\n",
    "x_train , y_train= load_data('train')\n",
    "x_val , y_val= load_data('valid')\n",
    "len(x_test), len(x_train), len(x_val)\n"
   ]
  },
  {
   "cell_type": "markdown",
   "id": "e9e305aa",
   "metadata": {},
   "source": [
    "## Train Tokenizer"
   ]
  },
  {
   "cell_type": "code",
   "execution_count": 19,
   "id": "9b44ad58",
   "metadata": {},
   "outputs": [],
   "source": [
    "tokenizer = Tokenizer()\n",
    "tokenizer.fit_on_texts(x_train)"
   ]
  },
  {
   "cell_type": "code",
   "execution_count": 20,
   "id": "04619ed6",
   "metadata": {},
   "outputs": [],
   "source": [
    "import pickle\n",
    "with open(TOKENIZER_PATH, 'wb') as handle:\n",
    "    pickle.dump(tokenizer, handle, protocol=pickle.HIGHEST_PROTOCOL)"
   ]
  },
  {
   "cell_type": "markdown",
   "id": "6a6bc632",
   "metadata": {},
   "source": [
    "# Train FastText Embedding"
   ]
  },
  {
   "cell_type": "code",
   "execution_count": 6,
   "id": "05e4db8a",
   "metadata": {},
   "outputs": [
    {
     "data": {
      "text/plain": [
       "\"\\nlocal_embedding = gensim.models.Word2Vec(sentences, size=300, min_count=1, window=5, iter=100)\\npretrained_weights = local_embedding.wv.syn0\\nprint('Result embedding shape:', pretrained_weights.shape)\\nprint('Checking similar words:')\\nfor word in ['لپتاپ']:\\n  most_similar = ', '.join('%s (%.2f)' % (similar, dist) for similar, dist in local_embedding.most_similar(word)[:8])\\n  print('  %s -> %s' % (word, most_similar))\\n\""
      ]
     },
     "execution_count": 6,
     "metadata": {},
     "output_type": "execute_result"
    }
   ],
   "source": [
    "from gensim.models import FastText\n",
    "\n",
    "sentences = [[word for word in hazm.word_tokenize(text)] for text in x_train]\n",
    "\n",
    "emb_model = FastText(sentences, vector_size  = 300 , min_count=1)\n",
    "emb_model.build_vocab(sentences)\n",
    "emb_model.train(sentences, total_examples=len(x_train), epochs=10)  # train\n",
    "emb_model.save('../Embedding/fasttext-300.bin')\n",
    "#model = FastText.load('../Embedding/fasttext-300.bin')\n",
    "'''\n",
    "local_embedding = gensim.models.Word2Vec(sentences, size=300, min_count=1, window=5, iter=100)\n",
    "pretrained_weights = local_embedding.wv.syn0\n",
    "print('Result embedding shape:', pretrained_weights.shape)\n",
    "print('Checking similar words:')\n",
    "for word in ['لپتاپ']:\n",
    "  most_similar = ', '.join('%s (%.2f)' % (similar, dist) for similar, dist in local_embedding.most_similar(word)[:8])\n",
    "  print('  %s -> %s' % (word, most_similar))\n",
    "'''"
   ]
  },
  {
   "cell_type": "code",
   "execution_count": 7,
   "id": "8cef5a3f",
   "metadata": {},
   "outputs": [
    {
     "data": {
      "text/plain": [
       "[('خوبش', 0.9838880896568298),\n",
       " ('خوبن', 0.9831717610359192),\n",
       " ('خوبی', 0.9681437015533447),\n",
       " ('عالی', 0.9606008529663086),\n",
       " ('خوش', 0.9489437341690063),\n",
       " ('خوبه', 0.9477345943450928),\n",
       " ('خوبیست', 0.9442329406738281),\n",
       " ('عالی٢', 0.9355194568634033),\n",
       " ('عالی٤', 0.9347110390663147),\n",
       " ('خوبیه', 0.9304131269454956)]"
      ]
     },
     "execution_count": 7,
     "metadata": {},
     "output_type": "execute_result"
    }
   ],
   "source": [
    "emb_model.wv.most_similar('خوب')"
   ]
  },
  {
   "cell_type": "code",
   "execution_count": 8,
   "id": "c7545ceb",
   "metadata": {},
   "outputs": [],
   "source": [
    "# extract fasttext learned embedding and put them in a numpy array\n",
    "\n",
    "embedding_matrix_ft = np.random.random((len(tokenizer.word_index)+1, emb_model.vector_size))\n",
    "\n",
    "pas = 0\n",
    "for word,i in tokenizer.word_index.items():\n",
    "    try:\n",
    "        embedding_matrix_ft[i] = emb_model.wv[word]\n",
    "    except:\n",
    "        print(word)\n",
    "        pas+=1\n"
   ]
  },
  {
   "cell_type": "markdown",
   "id": "27648630",
   "metadata": {},
   "source": [
    "## Prepare data"
   ]
  },
  {
   "cell_type": "code",
   "execution_count": 23,
   "id": "e6a6e45e",
   "metadata": {},
   "outputs": [],
   "source": [
    "def prepare_data(x , y ):\n",
    "    sequence_docs = tokenizer.texts_to_sequences(x)\n",
    "    # pad data to Maximum Sequence Length\n",
    "    pad_sequence_docs = pad_sequences(sequence_docs, maxlen=SEQUENCE_LEN, padding='post')\n",
    "    # Prepare labels for categorical prediction\n",
    "    categorical_y = to_categorical(y, 5)\n",
    "    return pad_sequence_docs, categorical_y\n",
    "\n",
    "\n",
    "train_pad_sequence, train_categorical_y = prepare_data(x_train , y_train)\n",
    "val_pad_sequence, val_categorical_y = prepare_data(x_val , y_val)\n",
    "test_pad_sequence, test_categorical_y = prepare_data(x_test , y_test)\n",
    "    "
   ]
  },
  {
   "cell_type": "markdown",
   "id": "dc65dd46",
   "metadata": {},
   "source": [
    "# Model-Temp"
   ]
  },
  {
   "cell_type": "code",
   "execution_count": 23,
   "id": "b0c94cc4",
   "metadata": {},
   "outputs": [
    {
     "name": "stdout",
     "output_type": "stream",
     "text": [
      "Model: \"sequential_1\"\n",
      "_________________________________________________________________\n",
      "Layer (type)                 Output Shape              Param #   \n",
      "=================================================================\n",
      "embedding_5 (Embedding)      (None, None, 300)         2302800   \n",
      "_________________________________________________________________\n",
      "bidirectional_6 (Bidirection (None, None, 400)         801600    \n",
      "_________________________________________________________________\n",
      "dropout_2 (Dropout)          (None, None, 400)         0         \n",
      "_________________________________________________________________\n",
      "dense_4 (Dense)              (None, None, 100)         40100     \n",
      "_________________________________________________________________\n",
      "bidirectional_7 (Bidirection (None, 100)               60400     \n",
      "_________________________________________________________________\n",
      "dropout_3 (Dropout)          (None, 100)               0         \n",
      "_________________________________________________________________\n",
      "dense_5 (Dense)              (None, 5)                 505       \n",
      "=================================================================\n",
      "Total params: 3,205,405\n",
      "Trainable params: 3,205,405\n",
      "Non-trainable params: 0\n",
      "_________________________________________________________________\n"
     ]
    }
   ],
   "source": [
    "\n",
    "temp_model = Sequential()\n",
    "temp_model.add(Embedding(embedding_matrix_ft.shape[0], embedding_matrix_ft.shape[1], weights=[embedding_matrix_ft], trainable=True))\n",
    "temp_model.add(Bidirectional(LSTM(200, return_sequences=True, name='lstm_layer')))\n",
    "temp_model.add(Dropout(0.2))\n",
    "temp_model.add(Dense(100, activation=\"relu\"))\n",
    "temp_model.add(Bidirectional(LSTM(50)))\n",
    "temp_model.add(Dropout(0.1))\n",
    "temp_model.add(Dense(5, activation='softmax'))\n",
    "temp_model.summary()\n"
   ]
  },
  {
   "cell_type": "code",
   "execution_count": 24,
   "id": "bc87440f",
   "metadata": {},
   "outputs": [
    {
     "name": "stdout",
     "output_type": "stream",
     "text": [
      "Model: \"sequential_1\"\n",
      "_________________________________________________________________\n",
      "Layer (type)                 Output Shape              Param #   \n",
      "=================================================================\n",
      "embedding_5 (Embedding)      (None, None, 300)         2302800   \n",
      "_________________________________________________________________\n",
      "bidirectional_6 (Bidirection (None, None, 400)         801600    \n",
      "_________________________________________________________________\n",
      "dropout_2 (Dropout)          (None, None, 400)         0         \n",
      "_________________________________________________________________\n",
      "dense_4 (Dense)              (None, None, 100)         40100     \n",
      "_________________________________________________________________\n",
      "bidirectional_7 (Bidirection (None, 100)               60400     \n",
      "_________________________________________________________________\n",
      "dropout_3 (Dropout)          (None, 100)               0         \n",
      "_________________________________________________________________\n",
      "dense_5 (Dense)              (None, 5)                 505       \n",
      "=================================================================\n",
      "Total params: 3,205,405\n",
      "Trainable params: 3,205,405\n",
      "Non-trainable params: 0\n",
      "_________________________________________________________________\n"
     ]
    }
   ],
   "source": [
    "#Config\n",
    "temp_model.compile(loss='categorical_crossentropy',\n",
    "              optimizer='adam',\n",
    "              metrics=[categorical_accuracy])\n",
    "\n",
    "temp_model.summary()"
   ]
  },
  {
   "cell_type": "markdown",
   "id": "60babf3d",
   "metadata": {},
   "source": [
    "### Train"
   ]
  },
  {
   "cell_type": "code",
   "execution_count": 25,
   "id": "25ca1e52",
   "metadata": {},
   "outputs": [
    {
     "name": "stdout",
     "output_type": "stream",
     "text": [
      "Epoch 1/5\n",
      "71/71 [==============================] - 70s 985ms/step - loss: 1.2163 - categorical_accuracy: 0.4766 - val_loss: 1.0888 - val_categorical_accuracy: 0.5309\n",
      "Epoch 2/5\n",
      "71/71 [==============================] - 70s 983ms/step - loss: 1.0655 - categorical_accuracy: 0.5670 - val_loss: 0.9908 - val_categorical_accuracy: 0.6108\n",
      "Epoch 3/5\n",
      "71/71 [==============================] - 66s 929ms/step - loss: 0.9473 - categorical_accuracy: 0.6211 - val_loss: 0.9352 - val_categorical_accuracy: 0.6467\n",
      "Epoch 4/5\n",
      "71/71 [==============================] - 65s 915ms/step - loss: 0.8006 - categorical_accuracy: 0.6993 - val_loss: 0.9299 - val_categorical_accuracy: 0.6427\n",
      "Epoch 5/5\n",
      "71/71 [==============================] - 66s 924ms/step - loss: 0.6504 - categorical_accuracy: 0.7657 - val_loss: 1.0071 - val_categorical_accuracy: 0.6407\n"
     ]
    }
   ],
   "source": [
    "batch_size = 64\n",
    "epochs = 5\n",
    "history = temp_model.fit(train_pad_sequence, train_categorical_y, batch_size=batch_size_blstm, epochs=epochs_blstm, validation_data=(val_pad_sequence, val_categorical_y) , shuffle=True)"
   ]
  },
  {
   "cell_type": "code",
   "execution_count": 41,
   "id": "61250702",
   "metadata": {},
   "outputs": [
    {
     "data": {
      "text/plain": [
       "<function matplotlib.pyplot.show(close=None, block=None)>"
      ]
     },
     "execution_count": 41,
     "metadata": {},
     "output_type": "execute_result"
    },
    {
     "data": {
      "image/png": "[encoded data removed]",
      "text/plain": [
       "<Figure size 432x288 with 1 Axes>"
      ]
     },
     "metadata": {
      "needs_background": "light"
     },
     "output_type": "display_data"
    }
   ],
   "source": [
    "import matplotlib.pyplot as plt\n",
    "plt.plot(history.history['loss'] , label='train')\n",
    "plt.plot(history.history['val_loss'], label='val')\n",
    "plt.legend()\n",
    "plt.grid()\n",
    "plt.xlabel('Epoch')\n",
    "plt.ylabel('Loss')\n",
    "plt.title(\"LOSS\")\n",
    "plt.show"
   ]
  },
  {
   "cell_type": "code",
   "execution_count": 29,
   "id": "d9dcdd75",
   "metadata": {},
   "outputs": [
    {
     "data": {
      "text/plain": [
       "{'loss': [1.2163463830947876,\n",
       "  1.0654643774032593,\n",
       "  0.9472609758377075,\n",
       "  0.8006227612495422,\n",
       "  0.650397539138794],\n",
       " 'categorical_accuracy': [0.4765711724758148,\n",
       "  0.5669553875923157,\n",
       "  0.6211414337158203,\n",
       "  0.6993115544319153,\n",
       "  0.7657117247581482],\n",
       " 'val_loss': [1.0888315439224243,\n",
       "  0.9908375144004822,\n",
       "  0.9351748824119568,\n",
       "  0.9299461841583252,\n",
       "  1.0070863962173462],\n",
       " 'val_categorical_accuracy': [0.5309381484985352,\n",
       "  0.6107784509658813,\n",
       "  0.6467065811157227,\n",
       "  0.6427145600318909,\n",
       "  0.6407185792922974]}"
      ]
     },
     "execution_count": 29,
     "metadata": {},
     "output_type": "execute_result"
    }
   ],
   "source": [
    "history.history"
   ]
  },
  {
   "cell_type": "markdown",
   "id": "5950f8b6",
   "metadata": {},
   "source": [
    "### Evaluate"
   ]
  },
  {
   "cell_type": "code",
   "execution_count": 45,
   "id": "74132719",
   "metadata": {},
   "outputs": [
    {
     "name": "stdout",
     "output_type": "stream",
     "text": [
      "Evaluate on test data\n",
      "9/9 [==============================] - 2s 197ms/step - loss: 0.9817 - categorical_accuracy: 0.6331\n",
      "test loss, test acc: [0.9816612601280212, 0.633093535900116]\n",
      "Generate predictions for 3 samples\n",
      "predictions shape: (3, 5)\n"
     ]
    }
   ],
   "source": [
    "print(\"Evaluate on test data\")\n",
    "results = temp_model.evaluate(test_pad_sequence, test_categorical_y, batch_size=batch_size)\n",
    "print(\"test loss, test acc:\", results)\n",
    "\n",
    "# Generate predictions (probabilities -- the output of the last layer)\n",
    "# on new data using `predict`\n",
    "print(\"Generate predictions for 3 samples\")\n",
    "predictions = temp_model.predict(test_pad_sequence[:3])\n",
    "print(\"predictions shape:\", predictions.shape)"
   ]
  },
  {
   "cell_type": "markdown",
   "id": "b8a40d64",
   "metadata": {},
   "source": [
    "### Prediction"
   ]
  },
  {
   "cell_type": "code",
   "execution_count": 54,
   "id": "65bfe44b",
   "metadata": {},
   "outputs": [
    {
     "data": {
      "text/plain": [
       "(array(['متاسفانه از نظر اپل انتقال و رد و بدل کردن اطلاعات و همچنین نصب برنامه با قیمت پایین همواره ممنوع است',\n",
       "        'سامسونگ به کمک سنسور شتاب سنج بعضی کنترل های حرکتی جالب را برای این گوشی در نظر گرفته است',\n",
       "        'خیلی عالیه بزودی از همین سایت می خرمش'], dtype=object),\n",
       " array([4, 4, 2], dtype=int64))"
      ]
     },
     "execution_count": 54,
     "metadata": {},
     "output_type": "execute_result"
    }
   ],
   "source": [
    "preds = np.argmax(predictions, axis = 1)\n",
    "x_test[:3] , preds"
   ]
  },
  {
   "cell_type": "markdown",
   "id": "11a7fae6",
   "metadata": {},
   "source": [
    "### ADD ML PIPELINE"
   ]
  },
  {
   "cell_type": "markdown",
   "id": "eb36466e",
   "metadata": {},
   "source": [
    "### Save Model"
   ]
  },
  {
   "cell_type": "code",
   "execution_count": 57,
   "id": "97d5d558",
   "metadata": {},
   "outputs": [],
   "source": [
    "import os\n",
    "\n",
    "if not os.path.exists(MODEL_DIR):\n",
    "    os.makedirs(MODEL_DIR)\n",
    "temp_model.save(\n",
    "    MODEL_DIR+'temp_model.h5',\n",
    "    overwrite=True,\n",
    "    include_optimizer=True,\n",
    "    save_format=None,\n",
    "    signatures=None,\n",
    "    options=None,\n",
    ")"
   ]
  },
  {
   "cell_type": "code",
   "execution_count": 58,
   "id": "2803d3da",
   "metadata": {},
   "outputs": [],
   "source": [
    "from tensorflow.keras.models import load_model\n",
    "# deletes the existing model\n",
    "del temp_model  \n",
    "model = load_model(MODEL_DIR+'temp_model.h5')"
   ]
  },
  {
   "cell_type": "code",
   "execution_count": 60,
   "id": "4cf4254c",
   "metadata": {},
   "outputs": [
    {
     "name": "stdout",
     "output_type": "stream",
     "text": [
      "Evaluate on test data\n",
      "9/9 [==============================] - 2s 197ms/step - loss: 0.9817 - categorical_accuracy: 0.6331\n",
      "test loss, test acc: [0.9816612601280212, 0.633093535900116]\n"
     ]
    }
   ],
   "source": [
    "print(\"Evaluate on test data\")\n",
    "results = model.evaluate(test_pad_sequence, test_categorical_y, batch_size=batch_size)\n",
    "print(\"test loss, test acc:\", results)\n"
   ]
  }
 ],
 "metadata": {
  "kernelspec": {
   "display_name": "tf_2",
   "language": "python",
   "name": "tf_2"
  },
  "language_info": {
   "codemirror_mode": {
    "name": "ipython",
    "version": 3
   },
   "file_extension": ".py",
   "mimetype": "text/x-python",
   "name": "python",
   "nbconvert_exporter": "python",
   "pygments_lexer": "ipython3",
   "version": "3.8.8"
  }
 },
 "nbformat": 4,
 "nbformat_minor": 5
}
