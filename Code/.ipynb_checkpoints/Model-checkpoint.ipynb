{
 "cells": [
  {
   "cell_type": "markdown",
   "id": "e450d791",
   "metadata": {},
   "source": [
    "# Import "
   ]
  },
  {
   "cell_type": "code",
   "execution_count": 13,
   "id": "85551eb7",
   "metadata": {},
   "outputs": [],
   "source": [
    "import settings\n",
    "FT_EMBEDDING_PATH = '../Embedding/cc.fa.300.bin'\n",
    "\n",
    "import fasttext \n",
    "import hazm\n",
    "import pandas as pd\n",
    "import pickle\n",
    "import numpy as np\n",
    "import gensim\n",
    "\n",
    "\n",
    "import tensorflow as tf\n",
    "from tensorflow.keras.preprocessing.text import Tokenizer\n",
    "from tensorflow.keras.preprocessing.sequence import pad_sequences\n",
    "\n",
    "from tensorflow.keras.models import Model, Sequential\n",
    "from tensorflow.keras.layers import Dense, Input, Embedding, Dropout\n",
    "from tensorflow.keras.layers import  LSTM, Bidirectional,GRU\n",
    "\n",
    "from tensorflow.keras.utils import to_categorical\n",
    "from tensorflow.keras.metrics import categorical_accuracy ,AUC\n",
    "from tensorflow.compat.v1.keras.layers import CuDNNLSTM\n",
    "from tensorflow.keras.utils import plot_model\n",
    "\n",
    "\n",
    "import matplotlib.pyplot as plot"
   ]
  },
  {
   "cell_type": "markdown",
   "id": "4e772e45",
   "metadata": {},
   "source": [
    "# Load Pretrained Embedding (Optional- Check Later)\n",
    "We prefer to use pretrained persian fasttext embedding since it is pretrained on a large WikiPedia corpus and can better represent word embeddings.\n",
    "\n",
    "- First of all download the pretrained embeddng and save it to the ../Embedding directory\n",
    "- Then change the EMB_SIZE in the settings.py file accordingly(any embedding size you downloaded)"
   ]
  },
  {
   "cell_type": "code",
   "execution_count": 14,
   "id": "0e82f371",
   "metadata": {},
   "outputs": [
    {
     "data": {
      "text/plain": [
       "'\\nft_embedding = fasttext.load_model(FT_EMBEDDING_PATH)\\nlen(ft_embedding.words)\\n'"
      ]
     },
     "execution_count": 14,
     "metadata": {},
     "output_type": "execute_result"
    }
   ],
   "source": [
    "'''\n",
    "ft_embedding = fasttext.load_model(FT_EMBEDDING_PATH)\n",
    "len(ft_embedding.words)\n",
    "'''"
   ]
  },
  {
   "cell_type": "markdown",
   "id": "9caa2457",
   "metadata": {},
   "source": [
    "# Prepare input"
   ]
  },
  {
   "cell_type": "markdown",
   "id": "3de22e37",
   "metadata": {},
   "source": [
    "## Load data"
   ]
  },
  {
   "cell_type": "code",
   "execution_count": 15,
   "id": "a37f854b",
   "metadata": {},
   "outputs": [
    {
     "data": {
      "text/plain": [
       "(556, 4503, 501)"
      ]
     },
     "execution_count": 15,
     "metadata": {},
     "output_type": "execute_result"
    }
   ],
   "source": [
    "def load_data(data_name):\n",
    "    data = pd.read_csv(settings.DATA_DIR+data_name+'.csv', index_col=None,  encoding=\"utf-8\")\n",
    "    x , y= np.asarray(data['comment']), np.asarray(data['sentiment'])\n",
    "    return x,y\n",
    "def get_tokenized_data(data_name):\n",
    "    x , y= load_data(data_name)\n",
    "    tokenized_x =  [hazm.word_tokenize(sent) for sent in x]\n",
    "    return tokenized_x,y\n",
    "\n",
    "\n",
    "x_test , y_test= load_data('test')\n",
    "x_train , y_train= load_data('train')\n",
    "x_val , y_val= load_data('valid')\n",
    "len(x_test), len(x_train), len(x_val)\n"
   ]
  },
  {
   "cell_type": "markdown",
   "id": "e9e305aa",
   "metadata": {},
   "source": [
    "## Train Tokenizer"
   ]
  },
  {
   "cell_type": "code",
   "execution_count": 16,
   "id": "9b44ad58",
   "metadata": {},
   "outputs": [],
   "source": [
    "tokenizer = Tokenizer()\n",
    "tokenizer.fit_on_texts(x_train)\n",
    "# Save tokenizer\n",
    "with open(settings.TOKENIZER_PATH, 'wb') as handle:\n",
    "    pickle.dump(tokenizer, handle, protocol=pickle.HIGHEST_PROTOCOL)"
   ]
  },
  {
   "cell_type": "markdown",
   "id": "6a6bc632",
   "metadata": {},
   "source": [
    "## Train FastText  word embedding\n",
    "\n",
    "We decided to use fast text because it better handles OOV by means of subwords.\n",
    "- We are using embedding size of 100 since our corpus is small so that it cannot properly update large embedding matrix. \n",
    "- Window size is 5 ( deafault )\n",
    "- We train the embedding for 10 epochs\n"
   ]
  },
  {
   "cell_type": "code",
   "execution_count": 17,
   "id": "05e4db8a",
   "metadata": {},
   "outputs": [
    {
     "name": "stdout",
     "output_type": "stream",
     "text": [
      "[('خوبن', 0.9829544425010681), ('خوبش', 0.9816024303436279), ('خوبی', 0.9776727557182312), ('عالی', 0.9593270421028137), ('خوبه', 0.9421129822731018), ('بخوبی', 0.9370280504226685), ('خوبیست', 0.9365965723991394), ('عالی٢', 0.9362499117851257), ('عالی٤', 0.9349127411842346), ('خیلی', 0.929419994354248)]\n"
     ]
    }
   ],
   "source": [
    "from gensim.models import FastText\n",
    "def train_fasttext_emb(corpus):\n",
    "    sentences = [[word for word in hazm.word_tokenize(text)] for text in corpus]\n",
    "\n",
    "    emb_model = FastText(sentences, vector_size  = settings.EMB_SIZE , min_count=1)\n",
    "    emb_model.build_vocab(sentences)\n",
    "    emb_model.train(sentences, total_examples=len(corpus), epochs=10)  # train\n",
    "    emb_model.save(settings.EMBEDDING_PATH)\n",
    "    return emb_model\n",
    "\n",
    "# Train the embedding\n",
    "emb_model = train_fasttext_emb(x_train)\n",
    "\n",
    "# load the pretrained model\n",
    "#emb_model = FastText.load(EMBEDDING_PATH)\n",
    "\n",
    "print(emb_model.wv.most_similar('خوب'))"
   ]
  },
  {
   "cell_type": "code",
   "execution_count": 18,
   "id": "c7545ceb",
   "metadata": {},
   "outputs": [],
   "source": [
    "# extract fasttext learned embedding weights to feed to our model\n",
    "def get_emb_matrix(emb_model_):\n",
    "    embedding_matrix = np.random.random((len(tokenizer.word_index)+1, emb_model_.vector_size))\n",
    "    pas = 0\n",
    "    for word,i in tokenizer.word_index.items():\n",
    "        try:\n",
    "            embedding_matrix[i] = emb_model_.wv[word]\n",
    "        except:\n",
    "            print(word)\n",
    "            pas+=1\n",
    "    return embedding_matrix\n",
    "\n",
    "embedding_matrix = get_emb_matrix(emb_model)"
   ]
  },
  {
   "cell_type": "markdown",
   "id": "27648630",
   "metadata": {},
   "source": [
    "## Prepare data\n",
    "\n",
    "Here we tokenize and pad sequence comments of our input data and convert class labels to categorical format."
   ]
  },
  {
   "cell_type": "code",
   "execution_count": 19,
   "id": "e6a6e45e",
   "metadata": {},
   "outputs": [],
   "source": [
    "def prepare_data(x , y ):\n",
    "    sequence_docs = tokenizer.texts_to_sequences(x)\n",
    "    # pad data to Maximum Sequence Length\n",
    "    pad_sequence_docs = pad_sequences(sequence_docs, maxlen=settings.SEQUENCE_LEN, padding='post')\n",
    "    # Prepare labels for categorical prediction\n",
    "    categorical_y = to_categorical(y, settings.CLASS_NUM)\n",
    "    return pad_sequence_docs, categorical_y\n",
    "\n",
    "\n",
    "train_pad_sequence, train_categorical_y = prepare_data(x_train , y_train)\n",
    "val_pad_sequence, val_categorical_y = prepare_data(x_val , y_val)\n",
    "test_pad_sequence, test_categorical_y = prepare_data(x_test , y_test)\n",
    "    "
   ]
  },
  {
   "cell_type": "markdown",
   "id": "2603678d",
   "metadata": {},
   "source": [
    "## calculate class weight"
   ]
  },
  {
   "cell_type": "code",
   "execution_count": 20,
   "id": "14d9bca0",
   "metadata": {},
   "outputs": [
    {
     "name": "stderr",
     "output_type": "stream",
     "text": [
      "D:\\Apps\\Anaconda3\\envs\\tf_2\\lib\\site-packages\\sklearn\\utils\\validation.py:70: FutureWarning: Pass classes=[-2 -1  0  1  2], y=[ 0  1 -1 ...  0  1  2] as keyword args. From version 1.0 (renaming of 0.25) passing these as positional arguments will result in an error\n",
      "  warnings.warn(f\"Pass {args_msg} as keyword args. From version \"\n"
     ]
    },
    {
     "data": {
      "text/plain": [
       "{0: 40.93636363636364,\n",
       " 1: 2.1649038461538463,\n",
       " 2: 0.46160943106099434,\n",
       " 3: 0.6848669201520913,\n",
       " 4: 1.1271589486858573}"
      ]
     },
     "execution_count": 20,
     "metadata": {},
     "output_type": "execute_result"
    }
   ],
   "source": [
    "#from sklearn.utils import class_weight\n",
    "import sklearn\n",
    "import numpy as np\n",
    "class_w = sklearn.utils.class_weight.compute_class_weight('balanced', np.unique(y_train) , y_train)\n",
    "class_w_dic = {}\n",
    "for i in range(len(class_w)):\n",
    "    class_w_dic[i] = class_w[i]\n",
    "class_w_dic"
   ]
  },
  {
   "cell_type": "markdown",
   "id": "7a17c2d9",
   "metadata": {},
   "source": [
    "At first we tried to use the calculated class weights for training, but we realized that the model doesn't assign any comments to the classes 2,3,4. It is because the weight of these three classes are much less than the first two classes. So, we decided to manually set class weights such that weight of minorites are more than wight of majorites but not that much different."
   ]
  },
  {
   "cell_type": "code",
   "execution_count": 21,
   "id": "2c1fd431",
   "metadata": {},
   "outputs": [],
   "source": [
    "class_w_dic={0:40,1:20, 2:10 , 3:10, 4:10 }"
   ]
  },
  {
   "cell_type": "markdown",
   "id": "dc65dd46",
   "metadata": {},
   "source": [
    "# Model-BiGRU"
   ]
  },
  {
   "cell_type": "markdown",
   "id": "f9b50081",
   "metadata": {},
   "source": [
    "We are using two layer bidirectional GRU with a dense layer on top of them. We choose to make a small model since we have a small corpus to train our model and a high capacity model will overfit the data ( or cannot learn at all)\n",
    "\n",
    "For finetuning we did the following experiment\n",
    "- Compared BiGRU vs BiLSTM  --> BiGRU works better\n",
    "- Compared different class_weights\n",
    "- Finetuning Embedding size :{100, 200, 300} \n",
    "- Finetuning learning rate : {0.01, 0.05, 0.001} --> 0.001 works better\n",
    "- Finetuning batch size:     {16, 64, 128} -->128 works better\n",
    "- Finetuning size of each layer\n",
    "- Finetuning dropout \n",
    "- Fix pretrained Embedding vs train the embedding during training the model \n",
    "- Added l2 norm to the dense layers --> mproved performance\n"
   ]
  },
  {
   "cell_type": "code",
   "execution_count": 34,
   "id": "b0c94cc4",
   "metadata": {},
   "outputs": [],
   "source": [
    "\n",
    "temp_model = Sequential()\n",
    "temp_model.add(Embedding(embedding_matrix.shape[0], embedding_matrix.shape[1], weights=[embedding_matrix], trainable=False))\n",
    "temp_model.add(Bidirectional(GRU(100, return_sequences=True, name='lstm_layer')))\n",
    "temp_model.add(Dropout(0.2))\n",
    "temp_model.add(Dense(50, activation=\"relu\", kernel_regularizer='l2'))\n",
    "temp_model.add(Bidirectional(GRU(50)))\n",
    "temp_model.add(Dropout(0.1))\n",
    "temp_model.add(Dense(5, activation='softmax', kernel_regularizer='l2'))\n",
    "\n"
   ]
  },
  {
   "cell_type": "code",
   "execution_count": 35,
   "id": "bc87440f",
   "metadata": {},
   "outputs": [
    {
     "name": "stdout",
     "output_type": "stream",
     "text": [
      "Model: \"sequential_4\"\n",
      "_________________________________________________________________\n",
      "Layer (type)                 Output Shape              Param #   \n",
      "=================================================================\n",
      "embedding_4 (Embedding)      (None, None, 200)         1535200   \n",
      "_________________________________________________________________\n",
      "bidirectional_8 (Bidirection (None, None, 200)         181200    \n",
      "_________________________________________________________________\n",
      "dropout_8 (Dropout)          (None, None, 200)         0         \n",
      "_________________________________________________________________\n",
      "dense_8 (Dense)              (None, None, 50)          10050     \n",
      "_________________________________________________________________\n",
      "bidirectional_9 (Bidirection (None, 100)               30600     \n",
      "_________________________________________________________________\n",
      "dropout_9 (Dropout)          (None, 100)               0         \n",
      "_________________________________________________________________\n",
      "dense_9 (Dense)              (None, 5)                 505       \n",
      "=================================================================\n",
      "Total params: 1,757,555\n",
      "Trainable params: 222,355\n",
      "Non-trainable params: 1,535,200\n",
      "_________________________________________________________________\n"
     ]
    }
   ],
   "source": [
    "#Config\n",
    "METRICS = [\n",
    "    categorical_accuracy,\n",
    "    tf.keras.metrics.AUC(name='auc'),\n",
    "    #tf.keras.metrics.AUC(name='prc', curve='PR'), # precision-recall curve\n",
    "]\n",
    "opt = tf.keras.optimizers.Adam(learning_rate=0.005)\n",
    "temp_model.compile(loss='categorical_crossentropy',\n",
    "              optimizer=opt,\n",
    "              metrics=[METRICS])\n",
    "\n",
    "temp_model.summary()"
   ]
  },
  {
   "cell_type": "markdown",
   "id": "60babf3d",
   "metadata": {},
   "source": [
    "### Train"
   ]
  },
  {
   "cell_type": "code",
   "execution_count": 31,
   "id": "649b407f",
   "metadata": {},
   "outputs": [
    {
     "name": "stdout",
     "output_type": "stream",
     "text": [
      "Epoch 1/20\n",
      "18/18 [==============================] - 24s 1s/step - loss: 26.8966 - categorical_accuracy: 0.4068 - auc: 0.7522 - val_loss: 2.2237 - val_categorical_accuracy: 0.4331 - val_auc: 0.7904\n",
      "Epoch 2/20\n",
      "18/18 [==============================] - 22s 1s/step - loss: 22.8768 - categorical_accuracy: 0.4681 - auc: 0.8042 - val_loss: 2.0029 - val_categorical_accuracy: 0.5589 - val_auc: 0.8361\n",
      "Epoch 3/20\n",
      "18/18 [==============================] - 24s 1s/step - loss: 21.3572 - categorical_accuracy: 0.5250 - auc: 0.8328 - val_loss: 1.8423 - val_categorical_accuracy: 0.5689 - val_auc: 0.8515\n",
      "Epoch 4/20\n",
      "18/18 [==============================] - 23s 1s/step - loss: 20.8382 - categorical_accuracy: 0.5368 - auc: 0.8411 - val_loss: 1.7776 - val_categorical_accuracy: 0.5509 - val_auc: 0.8543\n",
      "Epoch 5/20\n",
      "18/18 [==============================] - 24s 1s/step - loss: 20.5421 - categorical_accuracy: 0.5370 - auc: 0.8439 - val_loss: 1.6719 - val_categorical_accuracy: 0.5788 - val_auc: 0.8644\n",
      "Epoch 6/20\n",
      "18/18 [==============================] - 25s 1s/step - loss: 20.0843 - categorical_accuracy: 0.5481 - auc: 0.8492 - val_loss: 1.6564 - val_categorical_accuracy: 0.5788 - val_auc: 0.8632\n",
      "Epoch 7/20\n",
      "18/18 [==============================] - 24s 1s/step - loss: 19.5659 - categorical_accuracy: 0.5561 - auc: 0.8572 - val_loss: 1.5917 - val_categorical_accuracy: 0.5828 - val_auc: 0.8698\n",
      "Epoch 8/20\n",
      "18/18 [==============================] - 26s 1s/step - loss: 19.0649 - categorical_accuracy: 0.5818 - auc: 0.8665 - val_loss: 1.5699 - val_categorical_accuracy: 0.5649 - val_auc: 0.8682\n",
      "Epoch 9/20\n",
      "18/18 [==============================] - 25s 1s/step - loss: 18.6742 - categorical_accuracy: 0.5856 - auc: 0.8692 - val_loss: 1.5185 - val_categorical_accuracy: 0.5808 - val_auc: 0.8716\n",
      "Epoch 10/20\n",
      "18/18 [==============================] - 24s 1s/step - loss: 18.3304 - categorical_accuracy: 0.5938 - auc: 0.8743 - val_loss: 1.4895 - val_categorical_accuracy: 0.5948 - val_auc: 0.8780\n",
      "Epoch 11/20\n",
      "18/18 [==============================] - 24s 1s/step - loss: 17.9305 - categorical_accuracy: 0.6158 - auc: 0.8817 - val_loss: 1.6106 - val_categorical_accuracy: 0.5808 - val_auc: 0.8669\n",
      "Epoch 12/20\n",
      "18/18 [==============================] - 24s 1s/step - loss: 17.4946 - categorical_accuracy: 0.6185 - auc: 0.8844 - val_loss: 1.5027 - val_categorical_accuracy: 0.5888 - val_auc: 0.8748\n",
      "Epoch 13/20\n",
      "18/18 [==============================] - 24s 1s/step - loss: 16.7209 - categorical_accuracy: 0.6345 - auc: 0.8941 - val_loss: 1.5135 - val_categorical_accuracy: 0.6088 - val_auc: 0.8780\n",
      "Epoch 14/20\n",
      "18/18 [==============================] - 24s 1s/step - loss: 16.0535 - categorical_accuracy: 0.6536 - auc: 0.9021 - val_loss: 1.4983 - val_categorical_accuracy: 0.6068 - val_auc: 0.8782\n",
      "Epoch 15/20\n",
      "18/18 [==============================] - 24s 1s/step - loss: 15.4874 - categorical_accuracy: 0.6727 - auc: 0.9084 - val_loss: 1.5428 - val_categorical_accuracy: 0.6028 - val_auc: 0.8795\n",
      "Epoch 16/20\n",
      "18/18 [==============================] - 24s 1s/step - loss: 15.3521 - categorical_accuracy: 0.6711 - auc: 0.9121 - val_loss: 1.5152 - val_categorical_accuracy: 0.5828 - val_auc: 0.8754\n",
      "Epoch 17/20\n",
      "18/18 [==============================] - 25s 1s/step - loss: 15.3485 - categorical_accuracy: 0.6773 - auc: 0.9089 - val_loss: 1.7327 - val_categorical_accuracy: 0.5768 - val_auc: 0.8563\n",
      "Epoch 18/20\n",
      "18/18 [==============================] - 24s 1s/step - loss: 13.9183 - categorical_accuracy: 0.7029 - auc: 0.9238 - val_loss: 1.6775 - val_categorical_accuracy: 0.6008 - val_auc: 0.8700\n",
      "Epoch 19/20\n",
      "18/18 [==============================] - 24s 1s/step - loss: 13.0554 - categorical_accuracy: 0.7268 - auc: 0.9317 - val_loss: 1.7074 - val_categorical_accuracy: 0.5928 - val_auc: 0.8678\n",
      "Epoch 20/20\n",
      "18/18 [==============================] - 24s 1s/step - loss: 11.7562 - categorical_accuracy: 0.7497 - auc: 0.9428 - val_loss: 1.8197 - val_categorical_accuracy: 0.5709 - val_auc: 0.8612\n"
     ]
    }
   ],
   "source": [
    "#train EMB 100 \n",
    "batch_size = 256\n",
    "epochs = 20\n",
    "history = temp_model.fit(train_pad_sequence, train_categorical_y,\n",
    "                         batch_size=batch_size, epochs=epochs, \n",
    "                         class_weight=class_w_dic,\n",
    "                         validation_data=(val_pad_sequence, val_categorical_y) , \n",
    "                         shuffle=True)"
   ]
  },
  {
   "cell_type": "code",
   "execution_count": 33,
   "id": "61250702",
   "metadata": {},
   "outputs": [
    {
     "data": {
      "text/plain": [
       "<function matplotlib.pyplot.show(close=None, block=None)>"
      ]
     },
     "execution_count": 33,
     "metadata": {},
     "output_type": "execute_result"
    },
    {
     "data": {
      "image/png": "[encoded data removed]",
      "text/plain": [
       "<Figure size 432x288 with 1 Axes>"
      ]
     },
     "metadata": {
      "needs_background": "light"
     },
     "output_type": "display_data"
    }
   ],
   "source": [
    "import matplotlib.pyplot as plt\n",
    "#plt.plot(history.history['loss'] , label='train')\n",
    "plt.plot(history.history['val_loss'], label='val')\n",
    "plt.legend()\n",
    "plt.grid()\n",
    "plt.xlabel('Epoch')\n",
    "plt.ylabel('Loss')\n",
    "plt.title(\"LOSS\")\n",
    "plt.show"
   ]
  },
  {
   "cell_type": "markdown",
   "id": "ea2590ef",
   "metadata": {},
   "source": [
    "The above plot shows that the model overfits after epoch 10. so we need to train the model for 10 epochs and do early stopping"
   ]
  },
  {
   "cell_type": "code",
   "execution_count": 36,
   "id": "faae6a9e",
   "metadata": {},
   "outputs": [
    {
     "name": "stdout",
     "output_type": "stream",
     "text": [
      "Epoch 1/10\n",
      "18/18 [==============================] - 36s 2s/step - loss: 27.7003 - categorical_accuracy: 0.4253 - auc: 0.7460 - val_loss: 2.2874 - val_categorical_accuracy: 0.4331 - val_auc: 0.7895\n",
      "Epoch 2/10\n",
      "18/18 [==============================] - 32s 2s/step - loss: 23.1099 - categorical_accuracy: 0.4639 - auc: 0.8028 - val_loss: 2.0527 - val_categorical_accuracy: 0.5110 - val_auc: 0.8303\n",
      "Epoch 3/10\n",
      "18/18 [==============================] - 31s 2s/step - loss: 21.9572 - categorical_accuracy: 0.4981 - auc: 0.8232 - val_loss: 1.9252 - val_categorical_accuracy: 0.5190 - val_auc: 0.8402\n",
      "Epoch 4/10\n",
      "18/18 [==============================] - 31s 2s/step - loss: 21.1755 - categorical_accuracy: 0.5217 - auc: 0.8372 - val_loss: 1.8573 - val_categorical_accuracy: 0.5409 - val_auc: 0.8488\n",
      "Epoch 5/10\n",
      "18/18 [==============================] - 32s 2s/step - loss: 20.5331 - categorical_accuracy: 0.5370 - auc: 0.8436 - val_loss: 1.7923 - val_categorical_accuracy: 0.5369 - val_auc: 0.8471\n",
      "Epoch 6/10\n",
      "18/18 [==============================] - 32s 2s/step - loss: 20.2076 - categorical_accuracy: 0.5472 - auc: 0.8483 - val_loss: 1.7149 - val_categorical_accuracy: 0.5828 - val_auc: 0.8623\n",
      "Epoch 7/10\n",
      "18/18 [==============================] - 32s 2s/step - loss: 19.6172 - categorical_accuracy: 0.5707 - auc: 0.8578 - val_loss: 1.6624 - val_categorical_accuracy: 0.5649 - val_auc: 0.8626\n",
      "Epoch 8/10\n",
      "18/18 [==============================] - 32s 2s/step - loss: 19.1850 - categorical_accuracy: 0.5683 - auc: 0.8624 - val_loss: 1.6335 - val_categorical_accuracy: 0.5729 - val_auc: 0.8662\n",
      "Epoch 9/10\n",
      "18/18 [==============================] - 32s 2s/step - loss: 18.7967 - categorical_accuracy: 0.5823 - auc: 0.8686 - val_loss: 1.6412 - val_categorical_accuracy: 0.5569 - val_auc: 0.8594\n",
      "Epoch 10/10\n",
      "18/18 [==============================] - 32s 2s/step - loss: 19.3453 - categorical_accuracy: 0.5710 - auc: 0.8622 - val_loss: 1.5577 - val_categorical_accuracy: 0.6008 - val_auc: 0.8705\n"
     ]
    }
   ],
   "source": [
    "#FIX EMB 100\n",
    "batch_size = 256\n",
    "epochs = 10\n",
    "history = temp_model.fit(train_pad_sequence, train_categorical_y,\n",
    "                         batch_size=batch_size, epochs=epochs, \n",
    "                         class_weight=class_w_dic,\n",
    "                         validation_data=(val_pad_sequence, val_categorical_y) , \n",
    "                         shuffle=True)"
   ]
  },
  {
   "cell_type": "markdown",
   "id": "5950f8b6",
   "metadata": {},
   "source": [
    "### Evaluate"
   ]
  },
  {
   "cell_type": "code",
   "execution_count": 37,
   "id": "74132719",
   "metadata": {},
   "outputs": [
    {
     "name": "stdout",
     "output_type": "stream",
     "text": [
      "Evaluate on test data\n",
      "3/3 [==============================] - 1s 182ms/step - loss: 1.5893 - categorical_accuracy: 0.5809 - auc: 0.8640\n",
      "test loss:1.5893447399139404, test acc:0.5809352397918701, test auc: 0.8640177249908447\n"
     ]
    }
   ],
   "source": [
    "print(\"Evaluate on test data\")\n",
    "results = temp_model.evaluate(test_pad_sequence, test_categorical_y, batch_size=batch_size)\n",
    "print(\"test loss:{loss}, test acc:{acc}, test auc: {auc}\".format( loss = results[0],acc = results[1] ,auc=results[2] ))\n",
    "\n"
   ]
  },
  {
   "cell_type": "markdown",
   "id": "b8a40d64",
   "metadata": {},
   "source": [
    "### Prediction"
   ]
  },
  {
   "cell_type": "code",
   "execution_count": 38,
   "id": "65bfe44b",
   "metadata": {},
   "outputs": [
    {
     "name": "stdout",
     "output_type": "stream",
     "text": [
      "Generate predictions for 3 samples\n",
      "predictions shape: (3, 5)\n"
     ]
    },
    {
     "data": {
      "text/plain": [
       "(array(['متاسفانه از نظر اپل انتقال و رد و بدل کردن اطلاعات و همچنین نصب برنامه با قیمت پایین همواره ممنوع است',\n",
       "        'سامسونگ به کمک سنسور شتاب سنج بعضی کنترل های حرکتی جالب را برای این گوشی در نظر گرفته است',\n",
       "        'خیلی عالیه بزودی از همین سایت می خرمش'], dtype=object),\n",
       " array([0, 0, 2], dtype=int64))"
      ]
     },
     "execution_count": 38,
     "metadata": {},
     "output_type": "execute_result"
    }
   ],
   "source": [
    "# on new data using `predict`\n",
    "print(\"Generate predictions for 3 samples\")\n",
    "predictions = temp_model.predict(test_pad_sequence[:3])\n",
    "print(\"predictions shape:\", predictions.shape)\n",
    "preds = np.argmax(predictions, axis = 1)\n",
    "x_test[:3] , preds"
   ]
  },
  {
   "cell_type": "markdown",
   "id": "11a7fae6",
   "metadata": {},
   "source": [
    "### ADD ML PIPELINE"
   ]
  },
  {
   "cell_type": "markdown",
   "id": "eb36466e",
   "metadata": {},
   "source": [
    "### Save Model"
   ]
  },
  {
   "cell_type": "code",
   "execution_count": 51,
   "id": "97d5d558",
   "metadata": {},
   "outputs": [],
   "source": [
    "import os\n",
    "\n",
    "if not os.path.exists(settings.MODEL_DIR):\n",
    "    os.makedirs(settings.MODEL_DIR)\n",
    "temp_model.save(\n",
    "    settings.MODEL_DIR+'temp_model{emb_size}.h5'.format(emb_size=settings.EMB_SIZE),\n",
    "    overwrite=True,\n",
    "    include_optimizer=True,\n",
    "    save_format=None,\n",
    "    signatures=None,\n",
    "    options=None,\n",
    ")"
   ]
  },
  {
   "cell_type": "code",
   "execution_count": 44,
   "id": "2803d3da",
   "metadata": {},
   "outputs": [],
   "source": [
    "from tensorflow.keras.models import load_model\n",
    "# deletes the existing model\n",
    "#del temp_model  \n",
    "model = load_model(settings.MODEL_DIR+'temp_model{emb_size}.h5'.format(emb_size=settings.EMB_SIZE))"
   ]
  },
  {
   "cell_type": "code",
   "execution_count": 52,
   "id": "4cf4254c",
   "metadata": {},
   "outputs": [
    {
     "name": "stdout",
     "output_type": "stream",
     "text": [
      "Evaluate on test data\n",
      "3/3 [==============================] - 1s 216ms/step - loss: 1.5893 - categorical_accuracy: 0.5809 - auc: 0.8640\n",
      "test loss, test acc: [1.5893447399139404, 0.5809352397918701, 0.8640177249908447]\n"
     ]
    }
   ],
   "source": [
    "print(\"Evaluate on test data\")\n",
    "results = model.evaluate(test_pad_sequence, test_categorical_y, batch_size=batch_size)\n",
    "print(\"test loss, test acc:\", results)\n",
    "predictions = model.predict(test_pad_sequence)"
   ]
  },
  {
   "cell_type": "markdown",
   "id": "3d1c275c",
   "metadata": {},
   "source": [
    "# Confusion Matrix"
   ]
  },
  {
   "cell_type": "code",
   "execution_count": 53,
   "id": "bdbc11cb",
   "metadata": {},
   "outputs": [],
   "source": [
    "y_true = np.argmax(test_categorical_y, axis = 1)\n",
    "y_pred = np.argmax(predictions, axis = 1)\n",
    "class_names = np.array(range(5))"
   ]
  },
  {
   "cell_type": "code",
   "execution_count": 54,
   "id": "54c12aad",
   "metadata": {},
   "outputs": [],
   "source": [
    "from sklearn.metrics import plot_confusion_matrix\n",
    "import matplotlib.pyplot as plt\n",
    "from sklearn.metrics import confusion_matrix\n",
    "cm =confusion_matrix(y_true, y_pred)\n"
   ]
  },
  {
   "cell_type": "code",
   "execution_count": 55,
   "id": "22fc20cd",
   "metadata": {},
   "outputs": [],
   "source": [
    "def plot_confusion_matrix(cm, classes, normalize=True, title='Confusion matrix', cmap=plt.cm.Blues):\n",
    "    import itertools  \n",
    "    \"\"\"\n",
    "\n",
    "    This function prints and plots the confusion matrix.\n",
    "\n",
    "    Normalization can be applied by setting `normalize=True`.\n",
    "\n",
    "    \"\"\"\n",
    "\n",
    "    plt.figure(figsize=(8,8))\n",
    "\n",
    "\n",
    "\n",
    "    plt.imshow(cm, interpolation='nearest', cmap=cmap)\n",
    "\n",
    "    plt.title(title)\n",
    "\n",
    "    plt.colorbar()\n",
    "\n",
    "\n",
    "\n",
    "    tick_marks = np.arange(len(classes))\n",
    "\n",
    "    plt.xticks(tick_marks, classes, rotation=45)\n",
    "\n",
    "    plt.yticks(tick_marks, classes)\n",
    "\n",
    "\n",
    "\n",
    "    if normalize:\n",
    "\n",
    "        cm = cm.astype('float') / cm.sum(axis=1)[:, np.newaxis]\n",
    "\n",
    "        cm = np.around(cm, decimals=2)\n",
    "\n",
    "        cm[np.isnan(cm)] = 0.0\n",
    "\n",
    "        print(\"Normalized confusion matrix\")\n",
    "\n",
    "    else:\n",
    "\n",
    "        print('Confusion matrix, without normalization')\n",
    "\n",
    "    thresh = cm.max() / 2.\n",
    "\n",
    "    for i, j in itertools.product(range(cm.shape[0]), range(cm.shape[1])):\n",
    "\n",
    "        plt.text(j, i, cm[i, j],\n",
    "\n",
    "                 horizontalalignment=\"center\",\n",
    "\n",
    "                 color=\"white\" if cm[i, j] > thresh else \"black\")\n",
    "\n",
    "    plt.tight_layout()\n",
    "\n",
    "    plt.ylabel('True label')\n",
    "\n",
    "    plt.xlabel('Predicted label')\n",
    "\n"
   ]
  },
  {
   "cell_type": "code",
   "execution_count": 56,
   "id": "f497f800",
   "metadata": {},
   "outputs": [
    {
     "name": "stdout",
     "output_type": "stream",
     "text": [
      "Normalized confusion matrix\n"
     ]
    },
    {
     "data": {
      "image/png": "[encoded data removed]",
      "text/plain": [
       "<Figure size 576x576 with 2 Axes>"
      ]
     },
     "metadata": {
      "needs_background": "light"
     },
     "output_type": "display_data"
    }
   ],
   "source": [
    "plot_confusion_matrix(cm, class_names)"
   ]
  },
  {
   "cell_type": "code",
   "execution_count": 130,
   "id": "8ef6fbcc",
   "metadata": {},
   "outputs": [
    {
     "name": "stdout",
     "output_type": "stream",
     "text": [
      "Normalized confusion matrix\n"
     ]
    },
    {
     "data": {
      "image/png": "[encoded data removed]",
      "text/plain": [
       "<Figure size 576x576 with 2 Axes>"
      ]
     },
     "metadata": {
      "needs_background": "light"
     },
     "output_type": "display_data"
    }
   ],
   "source": [
    "plot_confusion_matrix(cm, class_names)"
   ]
  },
  {
   "cell_type": "code",
   "execution_count": 117,
   "id": "232dd68c",
   "metadata": {},
   "outputs": [
    {
     "name": "stdout",
     "output_type": "stream",
     "text": [
      "Normalized confusion matrix\n"
     ]
    },
    {
     "data": {
      "image/png": "[encoded data removed]",
      "text/plain": [
       "<Figure size 576x576 with 2 Axes>"
      ]
     },
     "metadata": {
      "needs_background": "light"
     },
     "output_type": "display_data"
    }
   ],
   "source": [
    "plot_confusion_matrix(cm, class_names)"
   ]
  },
  {
   "cell_type": "code",
   "execution_count": 96,
   "id": "924e82e7",
   "metadata": {},
   "outputs": [
    {
     "name": "stdout",
     "output_type": "stream",
     "text": [
      "Normalized confusion matrix\n"
     ]
    },
    {
     "data": {
      "image/png": "[encoded data removed]",
      "text/plain": [
       "<Figure size 576x576 with 2 Axes>"
      ]
     },
     "metadata": {
      "needs_background": "light"
     },
     "output_type": "display_data"
    }
   ],
   "source": [
    "plot_confusion_matrix(cm, class_names)\n",
    "#initial class weight "
   ]
  },
  {
   "cell_type": "markdown",
   "id": "66d1f6f3",
   "metadata": {},
   "source": [
    "# FUTURE WORK"
   ]
  },
  {
   "cell_type": "markdown",
   "id": "803e32de",
   "metadata": {},
   "source": [
    "- Finetune the model by grid search and then finetune each hyperparameter \n",
    "- For training and evaluation of our model it is better to do cross-validation to deal with the generalization problem. We can also split data multiple times, repeat the experiment and average the result to evaluate our model.\n",
    "- Use pretrained fasttext embedding and finetune it on our corpus. The pretrained embedding is trained from a huge corpus and can represent each word more accurately\n",
    "- Use the pretrained persian BERT model and finetune it on our dataset. The pretrained BERT language model could be a strong representation layer for our sentiment analysis model. It can better understand sentences while it is not a recurrent model ( In sentiment analysis problem sequential pattern is not that important while sentiment of keywords is much more important)"
   ]
  }
 ],
 "metadata": {
  "kernelspec": {
   "display_name": "tf_2",
   "language": "python",
   "name": "tf_2"
  },
  "language_info": {
   "codemirror_mode": {
    "name": "ipython",
    "version": 3
   },
   "file_extension": ".py",
   "mimetype": "text/x-python",
   "name": "python",
   "nbconvert_exporter": "python",
   "pygments_lexer": "ipython3",
   "version": "3.8.8"
  }
 },
 "nbformat": 4,
 "nbformat_minor": 5
}
