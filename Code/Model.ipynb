{
 "cells": [
  {
   "cell_type": "markdown",
   "id": "e450d791",
   "metadata": {},
   "source": [
    "# Import "
   ]
  },
  {
   "cell_type": "code",
   "execution_count": 1,
   "id": "85551eb7",
   "metadata": {},
   "outputs": [
    {
     "name": "stderr",
     "output_type": "stream",
     "text": [
      "D:\\Apps\\Anaconda3\\envs\\tf_2\\lib\\site-packages\\gensim\\similarities\\__init__.py:15: UserWarning: The gensim.similarities.levenshtein submodule is disabled, because the optional Levenshtein package <https://pypi.org/project/python-Levenshtein/> is unavailable. Install Levenhstein (e.g. `pip install python-Levenshtein`) to suppress this warning.\n",
      "  warnings.warn(msg)\n"
     ]
    }
   ],
   "source": [
    "import settings\n",
    "FT_EMBEDDING_PATH = '../Embedding/cc.fa.300.bin'\n",
    "\n",
    "import fasttext \n",
    "import hazm\n",
    "import pandas as pd\n",
    "import pickle\n",
    "import numpy as np\n",
    "import gensim\n",
    "\n",
    "\n",
    "import tensorflow as tf\n",
    "from tensorflow.keras.preprocessing.text import Tokenizer\n",
    "from tensorflow.keras.preprocessing.sequence import pad_sequences\n",
    "\n",
    "from tensorflow.keras.models import Model, Sequential\n",
    "from tensorflow.keras.layers import Dense, Input, Embedding, Dropout\n",
    "from tensorflow.keras.layers import  LSTM, Bidirectional,GRU\n",
    "\n",
    "from tensorflow.keras.utils import to_categorical\n",
    "from tensorflow.keras.metrics import categorical_accuracy ,AUC\n",
    "from tensorflow.compat.v1.keras.layers import CuDNNLSTM\n",
    "from tensorflow.keras.utils import plot_model\n",
    "\n",
    "\n",
    "import matplotlib.pyplot as plot"
   ]
  },
  {
   "cell_type": "markdown",
   "id": "4e772e45",
   "metadata": {},
   "source": [
    "# Load Pretrained Embedding (Optional- Check Later)\n",
    "We prefer to use pretrained persian fasttext embedding since it is pretrained on a large WikiPedia corpus and can better represent word embeddings.\n",
    "\n",
    "- First of all download the pretrained embeddng and save it to the ../Embedding directory\n",
    "- Then change the EMB_SIZE in the settings.py file accordingly(any embedding size you downloaded)"
   ]
  },
  {
   "cell_type": "code",
   "execution_count": 2,
   "id": "0e82f371",
   "metadata": {},
   "outputs": [
    {
     "data": {
      "text/plain": [
       "'\\nft_embedding = fasttext.load_model(FT_EMBEDDING_PATH)\\nlen(ft_embedding.words)\\n'"
      ]
     },
     "execution_count": 2,
     "metadata": {},
     "output_type": "execute_result"
    }
   ],
   "source": [
    "'''\n",
    "ft_embedding = fasttext.load_model(FT_EMBEDDING_PATH)\n",
    "len(ft_embedding.words)\n",
    "'''"
   ]
  },
  {
   "cell_type": "markdown",
   "id": "9caa2457",
   "metadata": {},
   "source": [
    "# Prepare input"
   ]
  },
  {
   "cell_type": "markdown",
   "id": "3de22e37",
   "metadata": {},
   "source": [
    "## Load data"
   ]
  },
  {
   "cell_type": "code",
   "execution_count": 2,
   "id": "a37f854b",
   "metadata": {},
   "outputs": [
    {
     "data": {
      "text/plain": [
       "(556, 4503, 501)"
      ]
     },
     "execution_count": 2,
     "metadata": {},
     "output_type": "execute_result"
    }
   ],
   "source": [
    "def load_data(data_name):\n",
    "    data = pd.read_csv(settings.DATA_DIR+data_name+'.csv', index_col=None,  encoding=\"utf-8\")\n",
    "    x , y= np.asarray(data['comment']), np.asarray(data['sentiment'])\n",
    "    return x,y\n",
    "def get_tokenized_data(data_name):\n",
    "    x , y= load_data(data_name)\n",
    "    tokenized_x =  [hazm.word_tokenize(sent) for sent in x]\n",
    "    return tokenized_x,y\n",
    "\n",
    "\n",
    "x_test , y_test= load_data('test')\n",
    "x_train , y_train= load_data('train')\n",
    "x_val , y_val= load_data('valid')\n",
    "len(x_test), len(x_train), len(x_val)\n"
   ]
  },
  {
   "cell_type": "markdown",
   "id": "e9e305aa",
   "metadata": {},
   "source": [
    "## Train Tokenizer"
   ]
  },
  {
   "cell_type": "code",
   "execution_count": 3,
   "id": "9b44ad58",
   "metadata": {},
   "outputs": [],
   "source": [
    "tokenizer = Tokenizer()\n",
    "tokenizer.fit_on_texts(x_train)\n",
    "# Save tokenizer\n",
    "with open(settings.TOKENIZER_PATH, 'wb') as handle:\n",
    "    pickle.dump(tokenizer, handle, protocol=pickle.HIGHEST_PROTOCOL)"
   ]
  },
  {
   "cell_type": "markdown",
   "id": "6a6bc632",
   "metadata": {},
   "source": [
    "## Train FastText  word embedding\n",
    "\n",
    "We decided to use fast text because it better handles OOV by means of subwords.\n",
    "- We are using embedding size of 100 since our corpus is small so that it cannot properly update large embedding matrix. \n",
    "- Window size is 5 ( deafault )\n",
    "- We train the embedding for 10 epochs\n"
   ]
  },
  {
   "cell_type": "code",
   "execution_count": 4,
   "id": "05e4db8a",
   "metadata": {},
   "outputs": [
    {
     "name": "stdout",
     "output_type": "stream",
     "text": [
      "[('خوبش', 0.9867684245109558), ('خوبن', 0.9866349101066589), ('خوبی', 0.970436155796051), ('خوبه', 0.9524381160736084), ('خوبیست', 0.9466794729232788), ('بخوبی', 0.9434263706207275), ('عالی', 0.9415867924690247), ('خوش', 0.9355658292770386), ('عالی٢', 0.9286019802093506), ('عالی٤', 0.9276235103607178)]\n"
     ]
    }
   ],
   "source": [
    "from gensim.models import FastText\n",
    "def train_fasttext_emb(corpus):\n",
    "    sentences = [[word for word in hazm.word_tokenize(text)] for text in corpus]\n",
    "\n",
    "    emb_model = FastText(sentences, vector_size  = settings.EMB_SIZE , min_count=1)\n",
    "    emb_model.build_vocab(sentences)\n",
    "    emb_model.train(sentences, total_examples=len(corpus), epochs=10)  # train\n",
    "    emb_model.save(settings.EMBEDDING_PATH)\n",
    "    return emb_model\n",
    "\n",
    "# Train the embedding\n",
    "emb_model = train_fasttext_emb(x_train)\n",
    "\n",
    "# load the pretrained model\n",
    "#emb_model = FastText.load(EMBEDDING_PATH)\n",
    "\n",
    "print(emb_model.wv.most_similar('خوب'))"
   ]
  },
  {
   "cell_type": "code",
   "execution_count": 5,
   "id": "c7545ceb",
   "metadata": {},
   "outputs": [],
   "source": [
    "# extract fasttext learned embedding weights to feed to our model\n",
    "def get_emb_matrix(emb_model_):\n",
    "    embedding_matrix = np.random.random((len(tokenizer.word_index)+1, emb_model_.vector_size))\n",
    "    pas = 0\n",
    "    for word,i in tokenizer.word_index.items():\n",
    "        try:\n",
    "            embedding_matrix[i] = emb_model_.wv[word]\n",
    "        except:\n",
    "            print(word)\n",
    "            pas+=1\n",
    "    return embedding_matrix\n",
    "\n",
    "embedding_matrix = get_emb_matrix(emb_model)"
   ]
  },
  {
   "cell_type": "markdown",
   "id": "27648630",
   "metadata": {},
   "source": [
    "## Prepare data\n",
    "\n",
    "Here we tokenize and pad sequence comments of our input data and convert class labels to categorical format."
   ]
  },
  {
   "cell_type": "code",
   "execution_count": 6,
   "id": "e6a6e45e",
   "metadata": {},
   "outputs": [],
   "source": [
    "def prepare_data(x , y ):\n",
    "    sequence_docs = tokenizer.texts_to_sequences(x)\n",
    "    # pad data to Maximum Sequence Length\n",
    "    pad_sequence_docs = pad_sequences(sequence_docs, maxlen=settings.SEQUENCE_LEN, padding='post')\n",
    "    # Prepare labels for categorical prediction\n",
    "    categorical_y = to_categorical(y, settings.CLASS_NUM)\n",
    "    return pad_sequence_docs, categorical_y\n",
    "\n",
    "\n",
    "train_pad_sequence, train_categorical_y = prepare_data(x_train , y_train)\n",
    "val_pad_sequence, val_categorical_y = prepare_data(x_val , y_val)\n",
    "test_pad_sequence, test_categorical_y = prepare_data(x_test , y_test)\n",
    "    "
   ]
  },
  {
   "cell_type": "markdown",
   "id": "2603678d",
   "metadata": {},
   "source": [
    "## calculate class weight"
   ]
  },
  {
   "cell_type": "code",
   "execution_count": 7,
   "id": "14d9bca0",
   "metadata": {},
   "outputs": [
    {
     "name": "stderr",
     "output_type": "stream",
     "text": [
      "D:\\Apps\\Anaconda3\\envs\\tf_2\\lib\\site-packages\\sklearn\\utils\\validation.py:70: FutureWarning: Pass classes=[-2 -1  0  1  2], y=[ 0  1 -1 ...  0  1  2] as keyword args. From version 1.0 (renaming of 0.25) passing these as positional arguments will result in an error\n",
      "  warnings.warn(f\"Pass {args_msg} as keyword args. From version \"\n"
     ]
    },
    {
     "data": {
      "text/plain": [
       "{0: 40.93636363636364,\n",
       " 1: 2.1649038461538463,\n",
       " 2: 0.46160943106099434,\n",
       " 3: 0.6848669201520913,\n",
       " 4: 1.1271589486858573}"
      ]
     },
     "execution_count": 7,
     "metadata": {},
     "output_type": "execute_result"
    }
   ],
   "source": [
    "#from sklearn.utils import class_weight\n",
    "import sklearn\n",
    "import numpy as np\n",
    "class_w = sklearn.utils.class_weight.compute_class_weight('balanced', np.unique(y_train) , y_train)\n",
    "class_w_dic = {}\n",
    "for i in range(len(class_w)):\n",
    "    class_w_dic[i] = class_w[i]\n",
    "class_w_dic"
   ]
  },
  {
   "cell_type": "markdown",
   "id": "7a17c2d9",
   "metadata": {},
   "source": [
    "At first we tried to use the calculated class weights for training, but we realized that the model doesn't assign any comments to the classes 2,3,4. It is because the weight of these three classes are much less than the first two classes. So, we decided to manually set class weights such that weight of minorites are more than wight of majorites but not that much different."
   ]
  },
  {
   "cell_type": "code",
   "execution_count": 8,
   "id": "2c1fd431",
   "metadata": {},
   "outputs": [],
   "source": [
    "class_w_dic={0:40,1:20, 2:10 , 3:10, 4:10 }"
   ]
  },
  {
   "cell_type": "markdown",
   "id": "dc65dd46",
   "metadata": {},
   "source": [
    "# Model-BiGRU"
   ]
  },
  {
   "cell_type": "markdown",
   "id": "f9b50081",
   "metadata": {},
   "source": [
    "We are using two layer bidirectional GRU with a dense layer on top of them. We choose to make a small model since we have a small corpus to train our model and a high capacity model will overfit the data ( or cannot learn at all)\n",
    "\n",
    "For finetuning we did the following experiment\n",
    "- Compared BiGRU vs BiLSTM  --> BiGRU works better\n",
    "- Compared different class_weights\n",
    "- Finetuning Embedding size :{100, 200, 300} \n",
    "- Finetuning learning rate : {0.01, 0.05, 0.001} --> 0.001 works better\n",
    "- Finetuning batch size:     {16, 64, 128} -->128 works better\n",
    "- Finetuning size of each layer\n",
    "- Finetuning dropout\n",
    "- Fix pretrained Embedding vs train the embedding during training the model \n",
    "- Added l2 norm to the dense layers --> mproved performance\n"
   ]
  },
  {
   "cell_type": "code",
   "execution_count": 28,
   "id": "b0c94cc4",
   "metadata": {},
   "outputs": [],
   "source": [
    "\n",
    "temp_model = Sequential()\n",
    "temp_model.add(Embedding(embedding_matrix.shape[0], embedding_matrix.shape[1], weights=[embedding_matrix], trainable=False))\n",
    "temp_model.add(Bidirectional(GRU(100, return_sequences=True, name='lstm_layer')))\n",
    "temp_model.add(Dropout(0.2))\n",
    "temp_model.add(Dense(50, activation=\"relu\", kernel_regularizer='l2'))\n",
    "temp_model.add(Bidirectional(GRU(50)))\n",
    "temp_model.add(Dropout(0.1))\n",
    "temp_model.add(Dense(5, activation='softmax', kernel_regularizer='l2'))\n",
    "\n"
   ]
  },
  {
   "cell_type": "code",
   "execution_count": 29,
   "id": "bc87440f",
   "metadata": {},
   "outputs": [
    {
     "name": "stdout",
     "output_type": "stream",
     "text": [
      "Model: \"sequential_2\"\n",
      "_________________________________________________________________\n",
      "Layer (type)                 Output Shape              Param #   \n",
      "=================================================================\n",
      "embedding_2 (Embedding)      (None, None, 100)         767600    \n",
      "_________________________________________________________________\n",
      "bidirectional_4 (Bidirection (None, None, 200)         121200    \n",
      "_________________________________________________________________\n",
      "dropout_4 (Dropout)          (None, None, 200)         0         \n",
      "_________________________________________________________________\n",
      "dense_4 (Dense)              (None, None, 50)          10050     \n",
      "_________________________________________________________________\n",
      "bidirectional_5 (Bidirection (None, 100)               30600     \n",
      "_________________________________________________________________\n",
      "dropout_5 (Dropout)          (None, 100)               0         \n",
      "_________________________________________________________________\n",
      "dense_5 (Dense)              (None, 5)                 505       \n",
      "=================================================================\n",
      "Total params: 929,955\n",
      "Trainable params: 162,355\n",
      "Non-trainable params: 767,600\n",
      "_________________________________________________________________\n"
     ]
    }
   ],
   "source": [
    "#Config\n",
    "METRICS = [\n",
    "    categorical_accuracy,\n",
    "    tf.keras.metrics.AUC(name='auc'),\n",
    "    #tf.keras.metrics.AUC(name='prc', curve='PR'), # precision-recall curve\n",
    "]\n",
    "opt = tf.keras.optimizers.Adam(learning_rate=0.005)\n",
    "temp_model.compile(loss='categorical_crossentropy',\n",
    "              optimizer=opt,\n",
    "              metrics=[METRICS])\n",
    "\n",
    "temp_model.summary()"
   ]
  },
  {
   "cell_type": "markdown",
   "id": "60babf3d",
   "metadata": {},
   "source": [
    "### Train"
   ]
  },
  {
   "cell_type": "code",
   "execution_count": 32,
   "id": "8eb7ddf9",
   "metadata": {},
   "outputs": [
    {
     "name": "stdout",
     "output_type": "stream",
     "text": [
      "Epoch 1/20\n",
      "18/18 [==============================] - 20s 1s/step - loss: 16.1954 - categorical_accuracy: 0.6600 - auc: 0.8993 - val_loss: 1.6885 - val_categorical_accuracy: 0.6008 - val_auc: 0.8820\n",
      "Epoch 2/20\n",
      "18/18 [==============================] - 20s 1s/step - loss: 14.9031 - categorical_accuracy: 0.6860 - auc: 0.9144 - val_loss: 1.6589 - val_categorical_accuracy: 0.6347 - val_auc: 0.8894\n",
      "Epoch 3/20\n",
      "18/18 [==============================] - 20s 1s/step - loss: 14.0064 - categorical_accuracy: 0.7109 - auc: 0.9236 - val_loss: 1.6713 - val_categorical_accuracy: 0.6327 - val_auc: 0.8871\n",
      "Epoch 4/20\n",
      "18/18 [==============================] - 20s 1s/step - loss: 13.2245 - categorical_accuracy: 0.7306 - auc: 0.9296 - val_loss: 1.6747 - val_categorical_accuracy: 0.6267 - val_auc: 0.8865\n",
      "Epoch 5/20\n",
      "18/18 [==============================] - 21s 1s/step - loss: 12.5209 - categorical_accuracy: 0.7415 - auc: 0.9359 - val_loss: 1.7198 - val_categorical_accuracy: 0.6228 - val_auc: 0.8823\n",
      "Epoch 6/20\n",
      "18/18 [==============================] - 21s 1s/step - loss: 11.8609 - categorical_accuracy: 0.7557 - auc: 0.9412 - val_loss: 1.7413 - val_categorical_accuracy: 0.6267 - val_auc: 0.8798\n",
      "Epoch 7/20\n",
      "18/18 [==============================] - 23s 1s/step - loss: 11.1028 - categorical_accuracy: 0.7722 - auc: 0.9458 - val_loss: 1.7794 - val_categorical_accuracy: 0.6228 - val_auc: 0.8750\n",
      "Epoch 8/20\n",
      "18/18 [==============================] - 21s 1s/step - loss: 10.4989 - categorical_accuracy: 0.7815 - auc: 0.9507 - val_loss: 1.8653 - val_categorical_accuracy: 0.6088 - val_auc: 0.8645\n",
      "Epoch 9/20\n",
      "18/18 [==============================] - 21s 1s/step - loss: 9.7762 - categorical_accuracy: 0.7988 - auc: 0.9562 - val_loss: 1.8761 - val_categorical_accuracy: 0.6128 - val_auc: 0.8652\n",
      "Epoch 10/20\n",
      "18/18 [==============================] - 20s 1s/step - loss: 8.9175 - categorical_accuracy: 0.8130 - auc: 0.9609 - val_loss: 1.9575 - val_categorical_accuracy: 0.6148 - val_auc: 0.8539\n",
      "Epoch 11/20\n",
      "18/18 [==============================] - 21s 1s/step - loss: 8.5030 - categorical_accuracy: 0.8179 - auc: 0.9641 - val_loss: 2.0285 - val_categorical_accuracy: 0.5968 - val_auc: 0.8543\n",
      "Epoch 12/20\n",
      "18/18 [==============================] - 21s 1s/step - loss: 8.0545 - categorical_accuracy: 0.8272 - auc: 0.9672 - val_loss: 2.0189 - val_categorical_accuracy: 0.6028 - val_auc: 0.8487\n",
      "Epoch 13/20\n",
      "18/18 [==============================] - 21s 1s/step - loss: 7.6231 - categorical_accuracy: 0.8326 - auc: 0.9695 - val_loss: 2.1140 - val_categorical_accuracy: 0.5988 - val_auc: 0.8470\n",
      "Epoch 14/20\n",
      "18/18 [==============================] - 20s 1s/step - loss: 7.3634 - categorical_accuracy: 0.8428 - auc: 0.9726 - val_loss: 2.1510 - val_categorical_accuracy: 0.6008 - val_auc: 0.8454\n",
      "Epoch 15/20\n",
      "18/18 [==============================] - 21s 1s/step - loss: 7.3434 - categorical_accuracy: 0.8425 - auc: 0.9732 - val_loss: 2.1781 - val_categorical_accuracy: 0.5888 - val_auc: 0.8408\n",
      "Epoch 16/20\n",
      "18/18 [==============================] - 20s 1s/step - loss: 6.9039 - categorical_accuracy: 0.8530 - auc: 0.9755 - val_loss: 2.2576 - val_categorical_accuracy: 0.5968 - val_auc: 0.8360\n",
      "Epoch 17/20\n",
      "18/18 [==============================] - 20s 1s/step - loss: 6.6074 - categorical_accuracy: 0.8570 - auc: 0.9766 - val_loss: 2.2952 - val_categorical_accuracy: 0.5868 - val_auc: 0.8352\n",
      "Epoch 18/20\n",
      "18/18 [==============================] - 21s 1s/step - loss: 6.2487 - categorical_accuracy: 0.8661 - auc: 0.9800 - val_loss: 2.3459 - val_categorical_accuracy: 0.5848 - val_auc: 0.8320\n",
      "Epoch 19/20\n",
      "18/18 [==============================] - 20s 1s/step - loss: 5.9794 - categorical_accuracy: 0.8748 - auc: 0.9810 - val_loss: 2.3882 - val_categorical_accuracy: 0.5669 - val_auc: 0.8331\n",
      "Epoch 20/20\n",
      "18/18 [==============================] - 20s 1s/step - loss: 5.9596 - categorical_accuracy: 0.8754 - auc: 0.9804 - val_loss: 2.3934 - val_categorical_accuracy: 0.5848 - val_auc: 0.8244\n"
     ]
    }
   ],
   "source": [
    "batch_size = 256\n",
    "epochs = 20\n",
    "history = temp_model.fit(train_pad_sequence, train_categorical_y,\n",
    "                         batch_size=batch_size, epochs=epochs, \n",
    "                         class_weight=class_w_dic,\n",
    "                         validation_data=(val_pad_sequence, val_categorical_y) , \n",
    "                         shuffle=True)"
   ]
  },
  {
   "cell_type": "code",
   "execution_count": 123,
   "id": "25ca1e52",
   "metadata": {},
   "outputs": [
    {
     "name": "stdout",
     "output_type": "stream",
     "text": [
      "Epoch 1/15\n",
      "36/36 [==============================] - 21s 573ms/step - loss: 24.3746 - categorical_accuracy: 0.4348 - auc: 0.7757 - val_loss: 1.2516 - val_categorical_accuracy: 0.4850 - val_auc: 0.8236\n",
      "Epoch 2/15\n",
      "36/36 [==============================] - 18s 500ms/step - loss: 19.3437 - categorical_accuracy: 0.5456 - auc: 0.8512 - val_loss: 1.0001 - val_categorical_accuracy: 0.5968 - val_auc: 0.8733\n",
      "Epoch 3/15\n",
      "36/36 [==============================] - 19s 528ms/step - loss: 14.9928 - categorical_accuracy: 0.6613 - auc: 0.9030 - val_loss: 1.0617 - val_categorical_accuracy: 0.5808 - val_auc: 0.8687\n",
      "Epoch 4/15\n",
      "36/36 [==============================] - 19s 535ms/step - loss: 10.6068 - categorical_accuracy: 0.7548 - auc: 0.9449 - val_loss: 1.2819 - val_categorical_accuracy: 0.5848 - val_auc: 0.8517\n",
      "Epoch 5/15\n",
      "36/36 [==============================] - 19s 541ms/step - loss: 7.4341 - categorical_accuracy: 0.8250 - auc: 0.9695 - val_loss: 1.5807 - val_categorical_accuracy: 0.6088 - val_auc: 0.8350\n",
      "Epoch 6/15\n",
      "36/36 [==============================] - 19s 540ms/step - loss: 5.4692 - categorical_accuracy: 0.8770 - auc: 0.9801 - val_loss: 1.4853 - val_categorical_accuracy: 0.5848 - val_auc: 0.8441\n",
      "Epoch 7/15\n",
      "36/36 [==============================] - 19s 538ms/step - loss: 4.2827 - categorical_accuracy: 0.9114 - auc: 0.9866 - val_loss: 1.5118 - val_categorical_accuracy: 0.5768 - val_auc: 0.8345\n",
      "Epoch 8/15\n",
      "36/36 [==============================] - 20s 550ms/step - loss: 2.8783 - categorical_accuracy: 0.9436 - auc: 0.9936 - val_loss: 1.8094 - val_categorical_accuracy: 0.5709 - val_auc: 0.8179\n",
      "Epoch 9/15\n",
      "36/36 [==============================] - 20s 552ms/step - loss: 2.1823 - categorical_accuracy: 0.9583 - auc: 0.9950 - val_loss: 1.9137 - val_categorical_accuracy: 0.5828 - val_auc: 0.8198\n",
      "Epoch 10/15\n",
      "36/36 [==============================] - 20s 554ms/step - loss: 1.7322 - categorical_accuracy: 0.9676 - auc: 0.9970 - val_loss: 1.8945 - val_categorical_accuracy: 0.5788 - val_auc: 0.8196\n",
      "Epoch 11/15\n",
      "36/36 [==============================] - 20s 555ms/step - loss: 1.6274 - categorical_accuracy: 0.9667 - auc: 0.9970 - val_loss: 2.2348 - val_categorical_accuracy: 0.5788 - val_auc: 0.8031\n",
      "Epoch 12/15\n",
      "36/36 [==============================] - 20s 564ms/step - loss: 1.2779 - categorical_accuracy: 0.9747 - auc: 0.9977 - val_loss: 2.2284 - val_categorical_accuracy: 0.5928 - val_auc: 0.8098\n",
      "Epoch 13/15\n",
      "36/36 [==============================] - 20s 557ms/step - loss: 1.0356 - categorical_accuracy: 0.9811 - auc: 0.9986 - val_loss: 2.1276 - val_categorical_accuracy: 0.5649 - val_auc: 0.8097\n",
      "Epoch 14/15\n",
      "36/36 [==============================] - 20s 552ms/step - loss: 0.9990 - categorical_accuracy: 0.9807 - auc: 0.9987 - val_loss: 2.3347 - val_categorical_accuracy: 0.5589 - val_auc: 0.7983\n",
      "Epoch 15/15\n",
      "36/36 [==============================] - 20s 564ms/step - loss: 1.5437 - categorical_accuracy: 0.9676 - auc: 0.9967 - val_loss: 2.2757 - val_categorical_accuracy: 0.5709 - val_auc: 0.8042\n"
     ]
    }
   ],
   "source": [
    "batch_size = 128\n",
    "epochs = 10\n",
    "history = temp_model.fit(train_pad_sequence, train_categorical_y,\n",
    "                         batch_size=batch_size, epochs=epochs, \n",
    "                         class_weight=class_w_dic,\n",
    "                         validation_data=(val_pad_sequence, val_categorical_y) , \n",
    "                         shuffle=True)"
   ]
  },
  {
   "cell_type": "code",
   "execution_count": 31,
   "id": "61250702",
   "metadata": {},
   "outputs": [
    {
     "data": {
      "text/plain": [
       "<function matplotlib.pyplot.show(close=None, block=None)>"
      ]
     },
     "execution_count": 31,
     "metadata": {},
     "output_type": "execute_result"
    },
    {
     "data": {
      "image/png": "[encoded data removed]",
      "text/plain": [
       "<Figure size 432x288 with 1 Axes>"
      ]
     },
     "metadata": {
      "needs_background": "light"
     },
     "output_type": "display_data"
    }
   ],
   "source": [
    "import matplotlib.pyplot as plt\n",
    "#plt.plot(history.history['loss'] , label='train')\n",
    "plt.plot(history.history['val_loss'], label='val')\n",
    "plt.legend()\n",
    "plt.grid()\n",
    "plt.xlabel('Epoch')\n",
    "plt.ylabel('Loss')\n",
    "plt.title(\"LOSS\")\n",
    "plt.show"
   ]
  },
  {
   "cell_type": "markdown",
   "id": "5950f8b6",
   "metadata": {},
   "source": [
    "### Evaluate"
   ]
  },
  {
   "cell_type": "code",
   "execution_count": 17,
   "id": "74132719",
   "metadata": {},
   "outputs": [
    {
     "name": "stdout",
     "output_type": "stream",
     "text": [
      "Evaluate on test data\n",
      "5/5 [==============================] - 0s 75ms/step - loss: 1.7551 - categorical_accuracy: 0.5935 - auc: 0.8633\n",
      "test loss:1.7550904750823975, test acc:0.5935251712799072, test auc: 0.8633244037628174\n"
     ]
    }
   ],
   "source": [
    "print(\"Evaluate on test data\")\n",
    "results = temp_model.evaluate(test_pad_sequence, test_categorical_y, batch_size=batch_size)\n",
    "print(\"test loss:{loss}, test acc:{acc}, test auc: {auc}\".format( loss = results[0],acc = results[1] ,auc=results[2] ))\n",
    "\n"
   ]
  },
  {
   "cell_type": "markdown",
   "id": "b8a40d64",
   "metadata": {},
   "source": [
    "### Prediction"
   ]
  },
  {
   "cell_type": "code",
   "execution_count": 18,
   "id": "65bfe44b",
   "metadata": {},
   "outputs": [
    {
     "name": "stdout",
     "output_type": "stream",
     "text": [
      "Generate predictions for 3 samples\n",
      "predictions shape: (3, 5)\n"
     ]
    },
    {
     "data": {
      "text/plain": [
       "(array(['متاسفانه از نظر اپل انتقال و رد و بدل کردن اطلاعات و همچنین نصب برنامه با قیمت پایین همواره ممنوع است',\n",
       "        'سامسونگ به کمک سنسور شتاب سنج بعضی کنترل های حرکتی جالب را برای این گوشی در نظر گرفته است',\n",
       "        'خیلی عالیه بزودی از همین سایت می خرمش'], dtype=object),\n",
       " array([0, 0, 2], dtype=int64))"
      ]
     },
     "execution_count": 18,
     "metadata": {},
     "output_type": "execute_result"
    }
   ],
   "source": [
    "# on new data using `predict`\n",
    "print(\"Generate predictions for 3 samples\")\n",
    "predictions = temp_model.predict(test_pad_sequence[:3])\n",
    "print(\"predictions shape:\", predictions.shape)\n",
    "preds = np.argmax(predictions, axis = 1)\n",
    "x_test[:3] , preds"
   ]
  },
  {
   "cell_type": "markdown",
   "id": "11a7fae6",
   "metadata": {},
   "source": [
    "### ADD ML PIPELINE"
   ]
  },
  {
   "cell_type": "markdown",
   "id": "eb36466e",
   "metadata": {},
   "source": [
    "### Save Model"
   ]
  },
  {
   "cell_type": "code",
   "execution_count": 20,
   "id": "97d5d558",
   "metadata": {},
   "outputs": [],
   "source": [
    "import os\n",
    "\n",
    "if not os.path.exists(settings.MODEL_DIR):\n",
    "    os.makedirs(settings.MODEL_DIR)\n",
    "temp_model.save(\n",
    "    settings.MODEL_DIR+'temp_model.h5',\n",
    "    overwrite=True,\n",
    "    include_optimizer=True,\n",
    "    save_format=None,\n",
    "    signatures=None,\n",
    "    options=None,\n",
    ")"
   ]
  },
  {
   "cell_type": "code",
   "execution_count": 21,
   "id": "2803d3da",
   "metadata": {},
   "outputs": [],
   "source": [
    "from tensorflow.keras.models import load_model\n",
    "# deletes the existing model\n",
    "#del temp_model  \n",
    "model = load_model(settings.MODEL_DIR+'temp_model.h5')"
   ]
  },
  {
   "cell_type": "code",
   "execution_count": 23,
   "id": "4cf4254c",
   "metadata": {},
   "outputs": [
    {
     "name": "stdout",
     "output_type": "stream",
     "text": [
      "Evaluate on test data\n",
      "5/5 [==============================] - 0s 86ms/step - loss: 1.7551 - categorical_accuracy: 0.5935 - auc: 0.8633\n",
      "test loss, test acc: [1.7550904750823975, 0.5935251712799072, 0.8633244037628174]\n"
     ]
    }
   ],
   "source": [
    "print(\"Evaluate on test data\")\n",
    "results = model.evaluate(test_pad_sequence, test_categorical_y, batch_size=batch_size)\n",
    "print(\"test loss, test acc:\", results)\n",
    "predictions = model.predict(test_pad_sequence)"
   ]
  },
  {
   "cell_type": "markdown",
   "id": "3d1c275c",
   "metadata": {},
   "source": [
    "# Confusion Matrix"
   ]
  },
  {
   "cell_type": "code",
   "execution_count": 24,
   "id": "bdbc11cb",
   "metadata": {},
   "outputs": [],
   "source": [
    "y_true = np.argmax(test_categorical_y, axis = 1)\n",
    "y_pred = np.argmax(predictions, axis = 1)\n",
    "class_names = np.array(range(5))"
   ]
  },
  {
   "cell_type": "code",
   "execution_count": 25,
   "id": "54c12aad",
   "metadata": {},
   "outputs": [],
   "source": [
    "from sklearn.metrics import plot_confusion_matrix\n",
    "import matplotlib.pyplot as plt\n",
    "from sklearn.metrics import confusion_matrix\n",
    "cm =confusion_matrix(y_true, y_pred)\n"
   ]
  },
  {
   "cell_type": "code",
   "execution_count": 26,
   "id": "22fc20cd",
   "metadata": {},
   "outputs": [],
   "source": [
    "def plot_confusion_matrix(cm, classes, normalize=True, title='Confusion matrix', cmap=plt.cm.Blues):\n",
    "    import itertools  \n",
    "    \"\"\"\n",
    "\n",
    "    This function prints and plots the confusion matrix.\n",
    "\n",
    "    Normalization can be applied by setting `normalize=True`.\n",
    "\n",
    "    \"\"\"\n",
    "\n",
    "    plt.figure(figsize=(8,8))\n",
    "\n",
    "\n",
    "\n",
    "    plt.imshow(cm, interpolation='nearest', cmap=cmap)\n",
    "\n",
    "    plt.title(title)\n",
    "\n",
    "    plt.colorbar()\n",
    "\n",
    "\n",
    "\n",
    "    tick_marks = np.arange(len(classes))\n",
    "\n",
    "    plt.xticks(tick_marks, classes, rotation=45)\n",
    "\n",
    "    plt.yticks(tick_marks, classes)\n",
    "\n",
    "\n",
    "\n",
    "    if normalize:\n",
    "\n",
    "        cm = cm.astype('float') / cm.sum(axis=1)[:, np.newaxis]\n",
    "\n",
    "        cm = np.around(cm, decimals=2)\n",
    "\n",
    "        cm[np.isnan(cm)] = 0.0\n",
    "\n",
    "        print(\"Normalized confusion matrix\")\n",
    "\n",
    "    else:\n",
    "\n",
    "        print('Confusion matrix, without normalization')\n",
    "\n",
    "    thresh = cm.max() / 2.\n",
    "\n",
    "    for i, j in itertools.product(range(cm.shape[0]), range(cm.shape[1])):\n",
    "\n",
    "        plt.text(j, i, cm[i, j],\n",
    "\n",
    "                 horizontalalignment=\"center\",\n",
    "\n",
    "                 color=\"white\" if cm[i, j] > thresh else \"black\")\n",
    "\n",
    "    plt.tight_layout()\n",
    "\n",
    "    plt.ylabel('True label')\n",
    "\n",
    "    plt.xlabel('Predicted label')\n",
    "\n"
   ]
  },
  {
   "cell_type": "code",
   "execution_count": 27,
   "id": "f497f800",
   "metadata": {},
   "outputs": [
    {
     "name": "stdout",
     "output_type": "stream",
     "text": [
      "Normalized confusion matrix\n"
     ]
    },
    {
     "data": {
      "image/png": "[encoded data removed]",
      "text/plain": [
       "<Figure size 576x576 with 2 Axes>"
      ]
     },
     "metadata": {
      "needs_background": "light"
     },
     "output_type": "display_data"
    }
   ],
   "source": [
    "plot_confusion_matrix(cm, class_names)"
   ]
  },
  {
   "cell_type": "code",
   "execution_count": 130,
   "id": "8ef6fbcc",
   "metadata": {},
   "outputs": [
    {
     "name": "stdout",
     "output_type": "stream",
     "text": [
      "Normalized confusion matrix\n"
     ]
    },
    {
     "data": {
      "image/png": "[encoded data removed]",
      "text/plain": [
       "<Figure size 576x576 with 2 Axes>"
      ]
     },
     "metadata": {
      "needs_background": "light"
     },
     "output_type": "display_data"
    }
   ],
   "source": [
    "plot_confusion_matrix(cm, class_names)"
   ]
  },
  {
   "cell_type": "code",
   "execution_count": 117,
   "id": "232dd68c",
   "metadata": {},
   "outputs": [
    {
     "name": "stdout",
     "output_type": "stream",
     "text": [
      "Normalized confusion matrix\n"
     ]
    },
    {
     "data": {
      "image/png": "[encoded data removed]",
      "text/plain": [
       "<Figure size 576x576 with 2 Axes>"
      ]
     },
     "metadata": {
      "needs_background": "light"
     },
     "output_type": "display_data"
    }
   ],
   "source": [
    "plot_confusion_matrix(cm, class_names)"
   ]
  },
  {
   "cell_type": "code",
   "execution_count": 96,
   "id": "924e82e7",
   "metadata": {},
   "outputs": [
    {
     "name": "stdout",
     "output_type": "stream",
     "text": [
      "Normalized confusion matrix\n"
     ]
    },
    {
     "data": {
      "image/png": "[encoded data removed]",
      "text/plain": [
       "<Figure size 576x576 with 2 Axes>"
      ]
     },
     "metadata": {
      "needs_background": "light"
     },
     "output_type": "display_data"
    }
   ],
   "source": [
    "plot_confusion_matrix(cm, class_names)"
   ]
  },
  {
   "cell_type": "code",
   "execution_count": null,
   "id": "0b4d8c31",
   "metadata": {},
   "outputs": [],
   "source": []
  }
 ],
 "metadata": {
  "kernelspec": {
   "display_name": "tf_2",
   "language": "python",
   "name": "tf_2"
  },
  "language_info": {
   "codemirror_mode": {
    "name": "ipython",
    "version": 3
   },
   "file_extension": ".py",
   "mimetype": "text/x-python",
   "name": "python",
   "nbconvert_exporter": "python",
   "pygments_lexer": "ipython3",
   "version": "3.8.8"
  }
 },
 "nbformat": 4,
 "nbformat_minor": 5
}
